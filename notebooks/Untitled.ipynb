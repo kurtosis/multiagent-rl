{
 "cells": [
  {
   "cell_type": "code",
   "execution_count": 68,
   "metadata": {},
   "outputs": [],
   "source": [
    "import pandas as pd\n",
    "import plotnine as pn\n",
    "import numpy as np\n",
    "\n",
    "# per turn reward\n",
    "# run_num = '1599461398'\n",
    "# per turn, raw score reward\n",
    "# run_num = '1599381355'\n",
    "\n",
    "# end of episode score reward\n",
    "# run_num = '1599461936'\n",
    "\n",
    "# ranking reward\n",
    "run_num = '1599462925'\n",
    "\n",
    "file_ep = f'/Users/kurtsmith/research/multiagent-rl/data/tournament/dual_ultimatum/{run_num}/episodes.csv'\n",
    "file_pr = f'/Users/kurtsmith/research/multiagent-rl/data/tournament/dual_ultimatum/{run_num}/progress.txt'\n",
    "pd.options.display.max_columns = None"
   ]
  },
  {
   "cell_type": "markdown",
   "metadata": {},
   "source": [
    "With bots taking actions:\n",
    "\n",
    "- offer = 0.9\n",
    "- threshold = 0.1\n",
    "\n",
    "The best an agent can do is: 1.8 point per turn.\n",
    "With 6 turns per episode - max points is 10.8"
   ]
  },
  {
   "cell_type": "code",
   "execution_count": 69,
   "metadata": {},
   "outputs": [],
   "source": [
    "ep = pd.read_csv(file_ep)\n",
    "pr = pd.read_table(file_pr)"
   ]
  },
  {
   "cell_type": "code",
   "execution_count": 27,
   "metadata": {},
   "outputs": [
    {
     "data": {
      "text/html": [
       "<div>\n",
       "<style scoped>\n",
       "    .dataframe tbody tr th:only-of-type {\n",
       "        vertical-align: middle;\n",
       "    }\n",
       "\n",
       "    .dataframe tbody tr th {\n",
       "        vertical-align: top;\n",
       "    }\n",
       "\n",
       "    .dataframe thead tr th {\n",
       "        text-align: left;\n",
       "    }\n",
       "\n",
       "    .dataframe thead tr:last-of-type th {\n",
       "        text-align: right;\n",
       "    }\n",
       "</style>\n",
       "<table border=\"1\" class=\"dataframe\">\n",
       "  <thead>\n",
       "    <tr>\n",
       "      <th></th>\n",
       "      <th colspan=\"2\" halign=\"left\">action_0_0</th>\n",
       "      <th colspan=\"2\" halign=\"left\">action_0_1</th>\n",
       "      <th colspan=\"2\" halign=\"left\">reward_0</th>\n",
       "      <th colspan=\"2\" halign=\"left\">score_0</th>\n",
       "    </tr>\n",
       "    <tr>\n",
       "      <th></th>\n",
       "      <th>mean</th>\n",
       "      <th>std</th>\n",
       "      <th>mean</th>\n",
       "      <th>std</th>\n",
       "      <th>mean</th>\n",
       "      <th>std</th>\n",
       "      <th>mean</th>\n",
       "      <th>std</th>\n",
       "    </tr>\n",
       "    <tr>\n",
       "      <th>epoch</th>\n",
       "      <th></th>\n",
       "      <th></th>\n",
       "      <th></th>\n",
       "      <th></th>\n",
       "      <th></th>\n",
       "      <th></th>\n",
       "      <th></th>\n",
       "      <th></th>\n",
       "    </tr>\n",
       "  </thead>\n",
       "  <tbody>\n",
       "    <tr>\n",
       "      <th>0</th>\n",
       "      <td>0.247823</td>\n",
       "      <td>0.002856</td>\n",
       "      <td>0.577571</td>\n",
       "      <td>0.004340</td>\n",
       "      <td>1.652172</td>\n",
       "      <td>3.697452</td>\n",
       "      <td>4.131273</td>\n",
       "      <td>2.824383</td>\n",
       "    </tr>\n",
       "    <tr>\n",
       "      <th>1</th>\n",
       "      <td>0.202165</td>\n",
       "      <td>0.002370</td>\n",
       "      <td>0.273561</td>\n",
       "      <td>0.276626</td>\n",
       "      <td>1.697840</td>\n",
       "      <td>3.799654</td>\n",
       "      <td>4.241250</td>\n",
       "      <td>2.900764</td>\n",
       "    </tr>\n",
       "  </tbody>\n",
       "</table>\n",
       "</div>"
      ],
      "text/plain": [
       "      action_0_0           action_0_1            reward_0             score_0  \\\n",
       "            mean       std       mean       std      mean       std      mean   \n",
       "epoch                                                                           \n",
       "0       0.247823  0.002856   0.577571  0.004340  1.652172  3.697452  4.131273   \n",
       "1       0.202165  0.002370   0.273561  0.276626  1.697840  3.799654  4.241250   \n",
       "\n",
       "                 \n",
       "            std  \n",
       "epoch            \n",
       "0      2.824383  \n",
       "1      2.900764  "
      ]
     },
     "execution_count": 27,
     "metadata": {},
     "output_type": "execute_result"
    }
   ],
   "source": [
    "ep.groupby('epoch')[['action_0_0', 'action_0_1', 'reward_0', 'score_0']].agg(['mean', 'std'])"
   ]
  },
  {
   "cell_type": "code",
   "execution_count": 28,
   "metadata": {},
   "outputs": [
    {
     "data": {
      "text/html": [
       "<div>\n",
       "<style scoped>\n",
       "    .dataframe tbody tr th:only-of-type {\n",
       "        vertical-align: middle;\n",
       "    }\n",
       "\n",
       "    .dataframe tbody tr th {\n",
       "        vertical-align: top;\n",
       "    }\n",
       "\n",
       "    .dataframe thead tr th {\n",
       "        text-align: left;\n",
       "    }\n",
       "\n",
       "    .dataframe thead tr:last-of-type th {\n",
       "        text-align: right;\n",
       "    }\n",
       "</style>\n",
       "<table border=\"1\" class=\"dataframe\">\n",
       "  <thead>\n",
       "    <tr>\n",
       "      <th></th>\n",
       "      <th colspan=\"2\" halign=\"left\">action_0_0</th>\n",
       "      <th colspan=\"2\" halign=\"left\">action_0_1</th>\n",
       "      <th colspan=\"2\" halign=\"left\">reward_0</th>\n",
       "      <th colspan=\"2\" halign=\"left\">score_0</th>\n",
       "    </tr>\n",
       "    <tr>\n",
       "      <th></th>\n",
       "      <th>mean</th>\n",
       "      <th>std</th>\n",
       "      <th>mean</th>\n",
       "      <th>std</th>\n",
       "      <th>mean</th>\n",
       "      <th>std</th>\n",
       "      <th>mean</th>\n",
       "      <th>std</th>\n",
       "    </tr>\n",
       "    <tr>\n",
       "      <th>epoch</th>\n",
       "      <th></th>\n",
       "      <th></th>\n",
       "      <th></th>\n",
       "      <th></th>\n",
       "      <th></th>\n",
       "      <th></th>\n",
       "      <th></th>\n",
       "      <th></th>\n",
       "    </tr>\n",
       "  </thead>\n",
       "  <tbody>\n",
       "    <tr>\n",
       "      <th>0</th>\n",
       "      <td>0.248500</td>\n",
       "      <td>0.000000</td>\n",
       "      <td>0.578600</td>\n",
       "      <td>0.000000</td>\n",
       "      <td>9.913032</td>\n",
       "      <td>0.005907</td>\n",
       "      <td>8.26116</td>\n",
       "      <td>0.006095</td>\n",
       "    </tr>\n",
       "    <tr>\n",
       "      <th>1</th>\n",
       "      <td>0.198964</td>\n",
       "      <td>0.001568</td>\n",
       "      <td>0.007114</td>\n",
       "      <td>0.009685</td>\n",
       "      <td>10.187040</td>\n",
       "      <td>0.004937</td>\n",
       "      <td>8.48603</td>\n",
       "      <td>0.003713</td>\n",
       "    </tr>\n",
       "  </tbody>\n",
       "</table>\n",
       "</div>"
      ],
      "text/plain": [
       "      action_0_0           action_0_1             reward_0            score_0  \\\n",
       "            mean       std       mean       std       mean       std     mean   \n",
       "epoch                                                                           \n",
       "0       0.248500  0.000000   0.578600  0.000000   9.913032  0.005907  8.26116   \n",
       "1       0.198964  0.001568   0.007114  0.009685  10.187040  0.004937  8.48603   \n",
       "\n",
       "                 \n",
       "            std  \n",
       "epoch            \n",
       "0      0.006095  \n",
       "1      0.003713  "
      ]
     },
     "execution_count": 28,
     "metadata": {},
     "output_type": "execute_result"
    }
   ],
   "source": [
    "ep[ep.done].groupby('epoch')[['action_0_0', 'action_0_1', 'reward_0', 'score_0']].agg(['mean', 'std'])"
   ]
  },
  {
   "cell_type": "code",
   "execution_count": 29,
   "metadata": {},
   "outputs": [
    {
     "data": {
      "text/html": [
       "<div>\n",
       "<style scoped>\n",
       "    .dataframe tbody tr th:only-of-type {\n",
       "        vertical-align: middle;\n",
       "    }\n",
       "\n",
       "    .dataframe tbody tr th {\n",
       "        vertical-align: top;\n",
       "    }\n",
       "\n",
       "    .dataframe thead th {\n",
       "        text-align: right;\n",
       "    }\n",
       "</style>\n",
       "<table border=\"1\" class=\"dataframe\">\n",
       "  <thead>\n",
       "    <tr style=\"text-align: right;\">\n",
       "      <th></th>\n",
       "      <th>action_0_0</th>\n",
       "      <th>action_0_1</th>\n",
       "      <th>reward_0</th>\n",
       "      <th>score_0</th>\n",
       "    </tr>\n",
       "    <tr>\n",
       "      <th>epoch</th>\n",
       "      <th></th>\n",
       "      <th></th>\n",
       "      <th></th>\n",
       "      <th></th>\n",
       "    </tr>\n",
       "  </thead>\n",
       "  <tbody>\n",
       "    <tr>\n",
       "      <th>0</th>\n",
       "      <td>0.247687</td>\n",
       "      <td>0.577365</td>\n",
       "      <td>0.0</td>\n",
       "      <td>3.305296</td>\n",
       "    </tr>\n",
       "    <tr>\n",
       "      <th>1</th>\n",
       "      <td>0.202805</td>\n",
       "      <td>0.326851</td>\n",
       "      <td>0.0</td>\n",
       "      <td>3.392294</td>\n",
       "    </tr>\n",
       "  </tbody>\n",
       "</table>\n",
       "</div>"
      ],
      "text/plain": [
       "       action_0_0  action_0_1  reward_0   score_0\n",
       "epoch                                            \n",
       "0        0.247687    0.577365       0.0  3.305296\n",
       "1        0.202805    0.326851       0.0  3.392294"
      ]
     },
     "execution_count": 29,
     "metadata": {},
     "output_type": "execute_result"
    }
   ],
   "source": [
    "ep[ep.done==False].groupby('epoch')[['action_0_0', 'action_0_1', 'reward_0', 'score_0']].mean()"
   ]
  },
  {
   "cell_type": "code",
   "execution_count": 30,
   "metadata": {},
   "outputs": [
    {
     "data": {
      "image/png": "[encoded data removed]",
      "text/plain": [
       "<Figure size 640x480 with 1 Axes>"
      ]
     },
     "metadata": {},
     "output_type": "display_data"
    },
    {
     "data": {
      "text/plain": [
       "<ggplot: (8781220483087)>"
      ]
     },
     "execution_count": 30,
     "metadata": {},
     "output_type": "execute_result"
    }
   ],
   "source": [
    "pn.ggplot(ep, pn.aes(x='action_0_0', y='reward_0')) + pn.geom_point()"
   ]
  },
  {
   "cell_type": "code",
   "execution_count": 31,
   "metadata": {},
   "outputs": [
    {
     "data": {
      "image/png": "[encoded data removed]",
      "text/plain": [
       "<Figure size 640x480 with 1 Axes>"
      ]
     },
     "metadata": {},
     "output_type": "display_data"
    },
    {
     "data": {
      "text/plain": [
       "<ggplot: (8781204184875)>"
      ]
     },
     "execution_count": 31,
     "metadata": {},
     "output_type": "execute_result"
    }
   ],
   "source": [
    "pn.ggplot(ep[ep.epoch==4], pn.aes(x='action_0_0')) + pn.geom_histogram()"
   ]
  },
  {
   "cell_type": "code",
   "execution_count": 32,
   "metadata": {},
   "outputs": [],
   "source": [
    "ep['expected_reward_0'] = 1 - ep['action_0_0'] + 0.9"
   ]
  },
  {
   "cell_type": "code",
   "execution_count": 33,
   "metadata": {},
   "outputs": [
    {
     "data": {
      "text/html": [
       "<div>\n",
       "<style scoped>\n",
       "    .dataframe tbody tr th:only-of-type {\n",
       "        vertical-align: middle;\n",
       "    }\n",
       "\n",
       "    .dataframe tbody tr th {\n",
       "        vertical-align: top;\n",
       "    }\n",
       "\n",
       "    .dataframe thead th {\n",
       "        text-align: right;\n",
       "    }\n",
       "</style>\n",
       "<table border=\"1\" class=\"dataframe\">\n",
       "  <thead>\n",
       "    <tr style=\"text-align: right;\">\n",
       "      <th></th>\n",
       "      <th>epoch</th>\n",
       "      <th>round</th>\n",
       "      <th>turn</th>\n",
       "      <th>action_0_0</th>\n",
       "      <th>action_0_1</th>\n",
       "      <th>reward_0</th>\n",
       "      <th>expected_reward_0</th>\n",
       "      <th>done</th>\n",
       "    </tr>\n",
       "  </thead>\n",
       "  <tbody>\n",
       "    <tr>\n",
       "      <th>0</th>\n",
       "      <td>0</td>\n",
       "      <td>2</td>\n",
       "      <td>3</td>\n",
       "      <td>0.2485</td>\n",
       "      <td>0.5786</td>\n",
       "      <td>0.0000</td>\n",
       "      <td>1.6515</td>\n",
       "      <td>False</td>\n",
       "    </tr>\n",
       "    <tr>\n",
       "      <th>1</th>\n",
       "      <td>0</td>\n",
       "      <td>2</td>\n",
       "      <td>2</td>\n",
       "      <td>0.2485</td>\n",
       "      <td>0.5786</td>\n",
       "      <td>0.0000</td>\n",
       "      <td>1.6515</td>\n",
       "      <td>False</td>\n",
       "    </tr>\n",
       "    <tr>\n",
       "      <th>2</th>\n",
       "      <td>0</td>\n",
       "      <td>2</td>\n",
       "      <td>1</td>\n",
       "      <td>0.2485</td>\n",
       "      <td>0.5786</td>\n",
       "      <td>0.0000</td>\n",
       "      <td>1.6515</td>\n",
       "      <td>False</td>\n",
       "    </tr>\n",
       "    <tr>\n",
       "      <th>3</th>\n",
       "      <td>0</td>\n",
       "      <td>1</td>\n",
       "      <td>3</td>\n",
       "      <td>0.2485</td>\n",
       "      <td>0.5786</td>\n",
       "      <td>0.0000</td>\n",
       "      <td>1.6515</td>\n",
       "      <td>False</td>\n",
       "    </tr>\n",
       "    <tr>\n",
       "      <th>4</th>\n",
       "      <td>0</td>\n",
       "      <td>1</td>\n",
       "      <td>2</td>\n",
       "      <td>0.2485</td>\n",
       "      <td>0.5786</td>\n",
       "      <td>0.0000</td>\n",
       "      <td>1.6515</td>\n",
       "      <td>False</td>\n",
       "    </tr>\n",
       "    <tr>\n",
       "      <th>...</th>\n",
       "      <td>...</td>\n",
       "      <td>...</td>\n",
       "      <td>...</td>\n",
       "      <td>...</td>\n",
       "      <td>...</td>\n",
       "      <td>...</td>\n",
       "      <td>...</td>\n",
       "      <td>...</td>\n",
       "    </tr>\n",
       "    <tr>\n",
       "      <th>1195</th>\n",
       "      <td>1</td>\n",
       "      <td>2</td>\n",
       "      <td>2</td>\n",
       "      <td>0.2048</td>\n",
       "      <td>0.6785</td>\n",
       "      <td>0.0000</td>\n",
       "      <td>1.6952</td>\n",
       "      <td>False</td>\n",
       "    </tr>\n",
       "    <tr>\n",
       "      <th>1196</th>\n",
       "      <td>1</td>\n",
       "      <td>2</td>\n",
       "      <td>1</td>\n",
       "      <td>0.2039</td>\n",
       "      <td>0.4229</td>\n",
       "      <td>0.0000</td>\n",
       "      <td>1.6961</td>\n",
       "      <td>False</td>\n",
       "    </tr>\n",
       "    <tr>\n",
       "      <th>1197</th>\n",
       "      <td>1</td>\n",
       "      <td>1</td>\n",
       "      <td>3</td>\n",
       "      <td>0.2014</td>\n",
       "      <td>0.0368</td>\n",
       "      <td>0.0000</td>\n",
       "      <td>1.6986</td>\n",
       "      <td>False</td>\n",
       "    </tr>\n",
       "    <tr>\n",
       "      <th>1198</th>\n",
       "      <td>1</td>\n",
       "      <td>1</td>\n",
       "      <td>2</td>\n",
       "      <td>0.2014</td>\n",
       "      <td>0.0375</td>\n",
       "      <td>0.0000</td>\n",
       "      <td>1.6986</td>\n",
       "      <td>False</td>\n",
       "    </tr>\n",
       "    <tr>\n",
       "      <th>1199</th>\n",
       "      <td>1</td>\n",
       "      <td>1</td>\n",
       "      <td>1</td>\n",
       "      <td>0.2005</td>\n",
       "      <td>0.0119</td>\n",
       "      <td>10.1836</td>\n",
       "      <td>1.6995</td>\n",
       "      <td>True</td>\n",
       "    </tr>\n",
       "  </tbody>\n",
       "</table>\n",
       "<p>1200 rows × 8 columns</p>\n",
       "</div>"
      ],
      "text/plain": [
       "      epoch  round  turn  action_0_0  action_0_1  reward_0  expected_reward_0  \\\n",
       "0         0      2     3      0.2485      0.5786    0.0000             1.6515   \n",
       "1         0      2     2      0.2485      0.5786    0.0000             1.6515   \n",
       "2         0      2     1      0.2485      0.5786    0.0000             1.6515   \n",
       "3         0      1     3      0.2485      0.5786    0.0000             1.6515   \n",
       "4         0      1     2      0.2485      0.5786    0.0000             1.6515   \n",
       "...     ...    ...   ...         ...         ...       ...                ...   \n",
       "1195      1      2     2      0.2048      0.6785    0.0000             1.6952   \n",
       "1196      1      2     1      0.2039      0.4229    0.0000             1.6961   \n",
       "1197      1      1     3      0.2014      0.0368    0.0000             1.6986   \n",
       "1198      1      1     2      0.2014      0.0375    0.0000             1.6986   \n",
       "1199      1      1     1      0.2005      0.0119   10.1836             1.6995   \n",
       "\n",
       "       done  \n",
       "0     False  \n",
       "1     False  \n",
       "2     False  \n",
       "3     False  \n",
       "4     False  \n",
       "...     ...  \n",
       "1195  False  \n",
       "1196  False  \n",
       "1197  False  \n",
       "1198  False  \n",
       "1199   True  \n",
       "\n",
       "[1200 rows x 8 columns]"
      ]
     },
     "execution_count": 33,
     "metadata": {},
     "output_type": "execute_result"
    }
   ],
   "source": [
    "ep.loc[ep.action_0_1<0.9, ['epoch', 'round', 'turn', 'action_0_0', 'action_0_1', 'reward_0', 'expected_reward_0', 'done']]"
   ]
  },
  {
   "cell_type": "code",
   "execution_count": 71,
   "metadata": {},
   "outputs": [
    {
     "data": {
      "text/html": [
       "<div>\n",
       "<style scoped>\n",
       "    .dataframe tbody tr th:only-of-type {\n",
       "        vertical-align: middle;\n",
       "    }\n",
       "\n",
       "    .dataframe tbody tr th {\n",
       "        vertical-align: top;\n",
       "    }\n",
       "\n",
       "    .dataframe thead th {\n",
       "        text-align: right;\n",
       "    }\n",
       "</style>\n",
       "<table border=\"1\" class=\"dataframe\">\n",
       "  <thead>\n",
       "    <tr style=\"text-align: right;\">\n",
       "      <th></th>\n",
       "      <th>Epoch</th>\n",
       "      <th>AverageEpRet0</th>\n",
       "      <th>StdEpRet0</th>\n",
       "      <th>MaxEpRet0</th>\n",
       "      <th>MinEpRet0</th>\n",
       "      <th>EpScore0</th>\n",
       "      <th>AverageOffer0</th>\n",
       "      <th>StdOffer0</th>\n",
       "      <th>MaxOffer0</th>\n",
       "      <th>MinOffer0</th>\n",
       "      <th>AverageThreshold0</th>\n",
       "      <th>StdThreshold0</th>\n",
       "      <th>MaxThreshold0</th>\n",
       "      <th>MinThreshold0</th>\n",
       "      <th>TestEpRet0</th>\n",
       "      <th>AverageTestEpScore0</th>\n",
       "      <th>StdTestEpScore0</th>\n",
       "      <th>MaxTestEpScore0</th>\n",
       "      <th>MinTestEpScore0</th>\n",
       "      <th>AverageTestOffer0</th>\n",
       "      <th>StdTestOffer0</th>\n",
       "      <th>MaxTestOffer0</th>\n",
       "      <th>MinTestOffer0</th>\n",
       "      <th>AverageTestThreshold0</th>\n",
       "      <th>StdTestThreshold0</th>\n",
       "      <th>MaxTestThreshold0</th>\n",
       "      <th>MinTestThreshold0</th>\n",
       "      <th>AverageQVals</th>\n",
       "      <th>StdQVals</th>\n",
       "      <th>MaxQVals</th>\n",
       "      <th>MinQVals</th>\n",
       "      <th>LossPi</th>\n",
       "      <th>LossQ</th>\n",
       "      <th>Time</th>\n",
       "    </tr>\n",
       "  </thead>\n",
       "  <tbody>\n",
       "    <tr>\n",
       "      <th>0</th>\n",
       "      <td>0</td>\n",
       "      <td>0.990396</td>\n",
       "      <td>0.097527</td>\n",
       "      <td>1.0</td>\n",
       "      <td>0.0</td>\n",
       "      <td>7.295670</td>\n",
       "      <td>0.680153</td>\n",
       "      <td>0.113973</td>\n",
       "      <td>1.0</td>\n",
       "      <td>0.250966</td>\n",
       "      <td>0.497417</td>\n",
       "      <td>0.143806</td>\n",
       "      <td>0.968417</td>\n",
       "      <td>0.091608</td>\n",
       "      <td>1.0</td>\n",
       "      <td>7.220573</td>\n",
       "      <td>9.536743e-07</td>\n",
       "      <td>7.220572</td>\n",
       "      <td>7.220572</td>\n",
       "      <td>0.696571</td>\n",
       "      <td>0.000000e+00</td>\n",
       "      <td>0.696571</td>\n",
       "      <td>0.696571</td>\n",
       "      <td>0.314993</td>\n",
       "      <td>0.000000e+00</td>\n",
       "      <td>0.314993</td>\n",
       "      <td>0.314993</td>\n",
       "      <td>0.673974</td>\n",
       "      <td>0.352629</td>\n",
       "      <td>1.186960</td>\n",
       "      <td>-0.213453</td>\n",
       "      <td>-0.675912</td>\n",
       "      <td>0.003806</td>\n",
       "      <td>45.520174</td>\n",
       "    </tr>\n",
       "    <tr>\n",
       "      <th>1</th>\n",
       "      <td>1</td>\n",
       "      <td>1.000000</td>\n",
       "      <td>0.000000</td>\n",
       "      <td>1.0</td>\n",
       "      <td>1.0</td>\n",
       "      <td>7.385101</td>\n",
       "      <td>0.669115</td>\n",
       "      <td>0.100749</td>\n",
       "      <td>1.0</td>\n",
       "      <td>0.288832</td>\n",
       "      <td>0.263873</td>\n",
       "      <td>0.099581</td>\n",
       "      <td>0.611377</td>\n",
       "      <td>0.000000</td>\n",
       "      <td>1.0</td>\n",
       "      <td>7.520398</td>\n",
       "      <td>4.768372e-07</td>\n",
       "      <td>7.520398</td>\n",
       "      <td>7.520398</td>\n",
       "      <td>0.646600</td>\n",
       "      <td>0.000000e+00</td>\n",
       "      <td>0.646600</td>\n",
       "      <td>0.646600</td>\n",
       "      <td>0.240172</td>\n",
       "      <td>0.000000e+00</td>\n",
       "      <td>0.240172</td>\n",
       "      <td>0.240172</td>\n",
       "      <td>0.972116</td>\n",
       "      <td>0.043775</td>\n",
       "      <td>1.056659</td>\n",
       "      <td>-0.304067</td>\n",
       "      <td>-0.974233</td>\n",
       "      <td>0.000456</td>\n",
       "      <td>93.429878</td>\n",
       "    </tr>\n",
       "    <tr>\n",
       "      <th>2</th>\n",
       "      <td>2</td>\n",
       "      <td>0.997599</td>\n",
       "      <td>0.048941</td>\n",
       "      <td>1.0</td>\n",
       "      <td>0.0</td>\n",
       "      <td>7.234282</td>\n",
       "      <td>0.694358</td>\n",
       "      <td>0.112267</td>\n",
       "      <td>1.0</td>\n",
       "      <td>0.288283</td>\n",
       "      <td>0.164040</td>\n",
       "      <td>0.100911</td>\n",
       "      <td>0.564748</td>\n",
       "      <td>0.000000</td>\n",
       "      <td>1.0</td>\n",
       "      <td>6.274914</td>\n",
       "      <td>4.768372e-07</td>\n",
       "      <td>6.274914</td>\n",
       "      <td>6.274914</td>\n",
       "      <td>0.854181</td>\n",
       "      <td>0.000000e+00</td>\n",
       "      <td>0.854181</td>\n",
       "      <td>0.854181</td>\n",
       "      <td>0.107229</td>\n",
       "      <td>0.000000e+00</td>\n",
       "      <td>0.107229</td>\n",
       "      <td>0.107229</td>\n",
       "      <td>0.975440</td>\n",
       "      <td>0.031928</td>\n",
       "      <td>1.065394</td>\n",
       "      <td>-0.361850</td>\n",
       "      <td>-0.976336</td>\n",
       "      <td>0.000197</td>\n",
       "      <td>139.427381</td>\n",
       "    </tr>\n",
       "    <tr>\n",
       "      <th>3</th>\n",
       "      <td>3</td>\n",
       "      <td>0.971189</td>\n",
       "      <td>0.167276</td>\n",
       "      <td>1.0</td>\n",
       "      <td>0.0</td>\n",
       "      <td>6.889331</td>\n",
       "      <td>0.751705</td>\n",
       "      <td>0.115851</td>\n",
       "      <td>1.0</td>\n",
       "      <td>0.276562</td>\n",
       "      <td>0.071658</td>\n",
       "      <td>0.076032</td>\n",
       "      <td>0.463039</td>\n",
       "      <td>0.000000</td>\n",
       "      <td>1.0</td>\n",
       "      <td>7.790351</td>\n",
       "      <td>0.000000e+00</td>\n",
       "      <td>7.790351</td>\n",
       "      <td>7.790351</td>\n",
       "      <td>0.601608</td>\n",
       "      <td>5.960464e-08</td>\n",
       "      <td>0.601608</td>\n",
       "      <td>0.601608</td>\n",
       "      <td>0.034469</td>\n",
       "      <td>3.725290e-09</td>\n",
       "      <td>0.034469</td>\n",
       "      <td>0.034469</td>\n",
       "      <td>0.975031</td>\n",
       "      <td>0.044541</td>\n",
       "      <td>1.119518</td>\n",
       "      <td>-0.678791</td>\n",
       "      <td>-0.977088</td>\n",
       "      <td>0.000456</td>\n",
       "      <td>187.206984</td>\n",
       "    </tr>\n",
       "  </tbody>\n",
       "</table>\n",
       "</div>"
      ],
      "text/plain": [
       "   Epoch  AverageEpRet0  StdEpRet0  MaxEpRet0  MinEpRet0  EpScore0  \\\n",
       "0      0       0.990396   0.097527        1.0        0.0  7.295670   \n",
       "1      1       1.000000   0.000000        1.0        1.0  7.385101   \n",
       "2      2       0.997599   0.048941        1.0        0.0  7.234282   \n",
       "3      3       0.971189   0.167276        1.0        0.0  6.889331   \n",
       "\n",
       "   AverageOffer0  StdOffer0  MaxOffer0  MinOffer0  AverageThreshold0  \\\n",
       "0       0.680153   0.113973        1.0   0.250966           0.497417   \n",
       "1       0.669115   0.100749        1.0   0.288832           0.263873   \n",
       "2       0.694358   0.112267        1.0   0.288283           0.164040   \n",
       "3       0.751705   0.115851        1.0   0.276562           0.071658   \n",
       "\n",
       "   StdThreshold0  MaxThreshold0  MinThreshold0  TestEpRet0  \\\n",
       "0       0.143806       0.968417       0.091608         1.0   \n",
       "1       0.099581       0.611377       0.000000         1.0   \n",
       "2       0.100911       0.564748       0.000000         1.0   \n",
       "3       0.076032       0.463039       0.000000         1.0   \n",
       "\n",
       "   AverageTestEpScore0  StdTestEpScore0  MaxTestEpScore0  MinTestEpScore0  \\\n",
       "0             7.220573     9.536743e-07         7.220572         7.220572   \n",
       "1             7.520398     4.768372e-07         7.520398         7.520398   \n",
       "2             6.274914     4.768372e-07         6.274914         6.274914   \n",
       "3             7.790351     0.000000e+00         7.790351         7.790351   \n",
       "\n",
       "   AverageTestOffer0  StdTestOffer0  MaxTestOffer0  MinTestOffer0  \\\n",
       "0           0.696571   0.000000e+00       0.696571       0.696571   \n",
       "1           0.646600   0.000000e+00       0.646600       0.646600   \n",
       "2           0.854181   0.000000e+00       0.854181       0.854181   \n",
       "3           0.601608   5.960464e-08       0.601608       0.601608   \n",
       "\n",
       "   AverageTestThreshold0  StdTestThreshold0  MaxTestThreshold0  \\\n",
       "0               0.314993       0.000000e+00           0.314993   \n",
       "1               0.240172       0.000000e+00           0.240172   \n",
       "2               0.107229       0.000000e+00           0.107229   \n",
       "3               0.034469       3.725290e-09           0.034469   \n",
       "\n",
       "   MinTestThreshold0  AverageQVals  StdQVals  MaxQVals  MinQVals    LossPi  \\\n",
       "0           0.314993      0.673974  0.352629  1.186960 -0.213453 -0.675912   \n",
       "1           0.240172      0.972116  0.043775  1.056659 -0.304067 -0.974233   \n",
       "2           0.107229      0.975440  0.031928  1.065394 -0.361850 -0.976336   \n",
       "3           0.034469      0.975031  0.044541  1.119518 -0.678791 -0.977088   \n",
       "\n",
       "      LossQ        Time  \n",
       "0  0.003806   45.520174  \n",
       "1  0.000456   93.429878  \n",
       "2  0.000197  139.427381  \n",
       "3  0.000456  187.206984  "
      ]
     },
     "execution_count": 71,
     "metadata": {},
     "output_type": "execute_result"
    }
   ],
   "source": [
    "pr"
   ]
  },
  {
   "cell_type": "code",
   "execution_count": 72,
   "metadata": {},
   "outputs": [
    {
     "data": {
      "image/png": "[encoded data removed]",
      "text/plain": [
       "<Figure size 640x480 with 1 Axes>"
      ]
     },
     "metadata": {},
     "output_type": "display_data"
    },
    {
     "data": {
      "text/plain": [
       "<ggplot: (8781220491661)>"
      ]
     },
     "execution_count": 72,
     "metadata": {},
     "output_type": "execute_result"
    }
   ],
   "source": [
    "pn.ggplot(pr, pn.aes(x='Epoch', y='AverageTestOffer0')) + pn.geom_point()"
   ]
  },
  {
   "cell_type": "code",
   "execution_count": 73,
   "metadata": {},
   "outputs": [
    {
     "data": {
      "image/png": "[encoded data removed]",
      "text/plain": [
       "<Figure size 640x480 with 1 Axes>"
      ]
     },
     "metadata": {},
     "output_type": "display_data"
    },
    {
     "data": {
      "text/plain": [
       "<ggplot: (-9223363255684989703)>"
      ]
     },
     "execution_count": 73,
     "metadata": {},
     "output_type": "execute_result"
    }
   ],
   "source": [
    "pn.ggplot(pr, pn.aes(x='Epoch', y='StdTestOffer0')) + pn.geom_point()"
   ]
  },
  {
   "cell_type": "code",
   "execution_count": 74,
   "metadata": {},
   "outputs": [
    {
     "data": {
      "image/png": "[encoded data removed]",
      "text/plain": [
       "<Figure size 640x480 with 1 Axes>"
      ]
     },
     "metadata": {},
     "output_type": "display_data"
    },
    {
     "data": {
      "text/plain": [
       "<ggplot: (8781035488218)>"
      ]
     },
     "execution_count": 74,
     "metadata": {},
     "output_type": "execute_result"
    }
   ],
   "source": [
    "pn.ggplot(pr, pn.aes(x='Epoch', y='AverageTestThreshold0')) + pn.geom_point()"
   ]
  },
  {
   "cell_type": "code",
   "execution_count": 75,
   "metadata": {},
   "outputs": [
    {
     "data": {
      "image/png": "[encoded data removed]",
      "text/plain": [
       "<Figure size 640x480 with 1 Axes>"
      ]
     },
     "metadata": {},
     "output_type": "display_data"
    },
    {
     "data": {
      "text/plain": [
       "<ggplot: (-9223363255819299061)>"
      ]
     },
     "execution_count": 75,
     "metadata": {},
     "output_type": "execute_result"
    }
   ],
   "source": [
    "pn.ggplot(pr, pn.aes(x='Epoch', y='StdTestThreshold0')) + pn.geom_point()"
   ]
  },
  {
   "cell_type": "code",
   "execution_count": 78,
   "metadata": {},
   "outputs": [
    {
     "data": {
      "image/png": "[encoded data removed]",
      "text/plain": [
       "<Figure size 640x480 with 1 Axes>"
      ]
     },
     "metadata": {},
     "output_type": "display_data"
    },
    {
     "data": {
      "text/plain": [
       "<ggplot: (8781204281285)>"
      ]
     },
     "execution_count": 78,
     "metadata": {},
     "output_type": "execute_result"
    }
   ],
   "source": [
    "pn.ggplot(pr, pn.aes(x='Epoch', y='TestEpRet0')) + pn.geom_point()"
   ]
  },
  {
   "cell_type": "code",
   "execution_count": 77,
   "metadata": {},
   "outputs": [
    {
     "data": {
      "image/png": "[encoded data removed]",
      "text/plain": [
       "<Figure size 640x480 with 1 Axes>"
      ]
     },
     "metadata": {},
     "output_type": "display_data"
    },
    {
     "data": {
      "text/plain": [
       "<ggplot: (-9223363255768945166)>"
      ]
     },
     "execution_count": 77,
     "metadata": {},
     "output_type": "execute_result"
    }
   ],
   "source": [
    "pn.ggplot(pr, pn.aes(x='Epoch', y='StdTestEpScore0')) + pn.geom_point()"
   ]
  }
 ],
 "metadata": {
  "kernelspec": {
   "display_name": "Python 3",
   "language": "python",
   "name": "python3"
  },
  "language_info": {
   "codemirror_mode": {
    "name": "ipython",
    "version": 3
   },
   "file_extension": ".py",
   "mimetype": "text/x-python",
   "name": "python",
   "nbconvert_exporter": "python",
   "pygments_lexer": "ipython3",
   "version": "3.6.10"
  }
 },
 "nbformat": 4,
 "nbformat_minor": 4
}
