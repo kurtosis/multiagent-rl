{
 "cells": [
  {
   "cell_type": "code",
   "execution_count": null,
   "metadata": {
    "jupyter": {
     "outputs_hidden": true
    }
   },
   "outputs": [],
   "source": [
    "import numpy as np\n",
    "import os\n",
    "import pandas as pd\n",
    "import plotnine as pn"
   ]
  },
  {
   "cell_type": "code",
   "execution_count": null,
   "metadata": {
    "jupyter": {
     "outputs_hidden": true
    }
   },
   "outputs": [],
   "source": [
    "pd.set_option('display.max_rows', None)"
   ]
  },
  {
   "cell_type": "code",
   "execution_count": null,
   "metadata": {
    "jupyter": {
     "outputs_hidden": true
    }
   },
   "outputs": [],
   "source": [
    "main_path = '~/research/multiagent-rl/data/testing/constantbot/'\n",
    "ddpg_path = main_path + 'ddpg/'\n",
    "rdpg_path = main_path + 'rdpg/'\n",
    "ddpg_runs = os.listdir(ddpg_path)\n",
    "rdpg_runs = os.listdir(rdpg_path)\n",
    "ddpg_runs = [f'{ddpg_path}{run}/' for run in ddpg_runs]\n",
    "rdpg_runs = [f'{rdpg_path}{run}/' for run in rdpg_runs]"
   ]
  },
  {
   "cell_type": "code",
   "execution_count": null,
   "metadata": {
    "jupyter": {
     "outputs_hidden": true
    }
   },
   "outputs": [],
   "source": [
    "def get_runs(subdir, main_path=main_path, exp_name=None):\n",
    "    path = main_path + subdir + '/'\n",
    "    runs = os.listdir(path)\n",
    "    runs = [f'{path}{run}/' for run in runs]\n",
    "    if exp_name:\n",
    "        exp_runs = []\n",
    "        for r in runs:\n",
    "            in_exp = False\n",
    "            c = open(f'{r}config.json', \"r\")\n",
    "            for line in c:\n",
    "                if re.search(f'\"{exp_name}\",', line):\n",
    "                    in_exp = True\n",
    "            if in_exp: \n",
    "                exp_runs.append(r)\n",
    "            runs = exp_runs\n",
    "    prog = {x: pd.read_table(f'{x}progress.txt') for x in runs}\n",
    "    for i, r in enumerate(prog):\n",
    "        prog[r]['run'] = f'run_{i}'\n",
    "    prog = pd.concat(prog.values())\n",
    "    return prog, runs"
   ]
  },
  {
   "cell_type": "code",
   "execution_count": null,
   "metadata": {
    "jupyter": {
     "outputs_hidden": true
    }
   },
   "outputs": [],
   "source": [
    "import re\n",
    "\n",
    "exp_name = \"polya_0_900\"\n",
    "conf = \"~/research/multiagent-rl/data/testing/constantbot/ddpg_orig/1610835051/config.json\"\n",
    "conf = open(conf, \"r\")\n",
    "for line in conf:\n",
    "    if re.search(f'\"{exp_name}\",', line):\n",
    "        print(line)"
   ]
  },
  {
   "cell_type": "code",
   "execution_count": null,
   "metadata": {
    "jupyter": {
     "outputs_hidden": true
    }
   },
   "outputs": [],
   "source": [
    "ddpg, ddpg_runs = get_runs('ddpg', exp_name = 'q_32x4')\n",
    "ddpg_noise_5, _ = get_runs('ddpg', exp_name = 'q_32x4_noise_0_5')\n",
    "ddpg_noise_02, _ = get_runs('ddpg', exp_name = 'q_32x4_noise_0_02')"
   ]
  },
  {
   "cell_type": "code",
   "execution_count": null,
   "metadata": {
    "jupyter": {
     "outputs_hidden": true
    }
   },
   "outputs": [],
   "source": [
    "ddpg_orig, ddpg_orig_runs = get_runs('ddpg_orig', exp_name = 'q_32x4')\n",
    "rdpg, rdpg_runs = get_runs('rdpg')\n",
    "ddpg_polya, _ = get_runs('ddpg_orig', exp_name = 'polya_0_900')\n",
    "ddpg_gamma, _ = get_runs('ddpg_orig', exp_name = 'gamma_0_00')\n",
    "td3_orig, _ = get_runs('td3_orig', exp_name = 'q_32x4')\n",
    "td3_gamma, _ = get_runs('td3_orig', exp_name = 'gamma_0_00')"
   ]
  },
  {
   "cell_type": "code",
   "execution_count": null,
   "metadata": {
    "jupyter": {
     "outputs_hidden": true
    }
   },
   "outputs": [],
   "source": [
    "td3_nonflat, _ = get_runs('td3', exp_name = 'nonflat_reward')"
   ]
  },
  {
   "cell_type": "code",
   "execution_count": null,
   "metadata": {
    "jupyter": {
     "outputs_hidden": true
    }
   },
   "outputs": [],
   "source": [
    "sac, _ = get_runs('sac_orig', exp_name = 'q_32x2')"
   ]
  },
  {
   "cell_type": "code",
   "execution_count": null,
   "metadata": {
    "jupyter": {
     "outputs_hidden": true
    }
   },
   "outputs": [],
   "source": [
    "sac_decr_98, _ = get_runs('sac_orig', exp_name = 'decreasing_alpha_98')\n",
    "sac_decr_94, _ = get_runs('sac_orig', exp_name = 'decreasing_alpha_94')\n",
    "sac_decr_90, _ = get_runs('sac_orig', exp_name = 'decreasing_alpha_90')\n",
    "sac_decr_50, _ = get_runs('sac_orig', exp_name = 'decreasing_alpha_50')\n",
    "sac_auto, _ = get_runs('sac_orig', exp_name = 'auto_alpha')\n",
    "sac_orig_auto_t4, _ = get_runs('sac_orig', exp_name = 'new_auto_alpha_targ_4')\n",
    "sac_done_auto_t4, _ = get_runs('sac_orig', exp_name = 'done_auto_alpha_targ_4')\n",
    "sac_orig_auto_t8, _ = get_runs('sac_orig', exp_name = 'auto_alpha_targ_8')\n",
    "\n"
   ]
  },
  {
   "cell_type": "code",
   "execution_count": null,
   "metadata": {
    "jupyter": {
     "outputs_hidden": true
    }
   },
   "outputs": [],
   "source": [
    "sac, _ = get_runs('sac', exp_name = 'first_sac_test')\n",
    "sac_auto_t4, _ = get_runs('sac', exp_name = 'auto_alpha_targ_4')\n",
    "sac_done_t4, _ = get_runs('sac', exp_name = 'done_alpha_targ_4')\n",
    "sac_auto_t8, _ = get_runs('sac', exp_name = 'auto_alpha_targ_8')\n",
    "\n",
    "# Try tuning alpha/entr targ/LR with gamma=0.\n",
    "# Should be solvable!\n",
    "sac_gamma_0, _ = get_runs('sac', exp_name = 'gamma_0_alpha_05_targ_4')\n",
    "sac_gamma_50, _ = get_runs('sac', exp_name = 'gamma_50_alpha_05_targ_4')\n",
    "sac_gamma_90, _ = get_runs('sac', exp_name = 'gamma_90_alpha_05_targ_4')\n",
    "sac_gamma_99, _ = get_runs('sac', exp_name = 'gamma_99_alpha_05_targ_4')\n",
    "sac_gamma_99_a_20, _ = get_runs('sac', exp_name = 'gamma_99_alpha_20_targ_4')\n",
    "sac_gamma_99_a_20_t1, _ = get_runs('sac', exp_name = 'gamma_99_alpha_20_targ_1')\n",
    "sac_gamma_99_done, _ = get_runs('sac', exp_name = 'gamma_99_done')\n",
    "sac_gamma_99_done2, _ = get_runs('sac', exp_name = 'gamma_99_done_loss')\n",
    "sac_random_10, _ = get_runs('sac', exp_name = 'random_d')\n",
    "sac_random_01, _ = get_runs('sac', exp_name = 'random_01')\n",
    "sac_random_001, _ = get_runs('sac', exp_name = 'random_001')\n",
    "sac_permute, _ = get_runs('sac', exp_name = 'permute_d')\n",
    "sac_zeros, _ = get_runs('sac', exp_name = 'zeros_like')\n",
    "sac_random_01_lr_01, _ = get_runs('sac', exp_name = 'random_01_lr_01')\n",
    "sac_random_01_lr2_01, _ = get_runs('sac', exp_name = 'random_01_lr2_01')\n",
    "sac_nonflat, nfr = get_runs('sac', exp_name = 'standard_nonflat')"
   ]
  },
  {
   "cell_type": "code",
   "execution_count": null,
   "metadata": {
    "jupyter": {
     "outputs_hidden": true
    }
   },
   "outputs": [],
   "source": [
    "sac_100, _ = get_runs('sac', exp_name = 'ep_len_100')"
   ]
  },
  {
   "cell_type": "code",
   "execution_count": null,
   "metadata": {
    "jupyter": {
     "outputs_hidden": true
    }
   },
   "outputs": [],
   "source": [
    "# var = 'AverageTestActOffer'\n",
    "# var = 'AverageTestActDemand'\n",
    "# var = 'LossPi'\n",
    "var = 'AverageTestEpRet'\n",
    "# var = 'AverageEpRet'"
   ]
  },
  {
   "cell_type": "code",
   "execution_count": null,
   "metadata": {
    "jupyter": {
     "outputs_hidden": true
    }
   },
   "outputs": [],
   "source": [
    "display(pn.ggplot(sac_100, pn.aes(x='Epoch', y=var, color='run')) + pn.geom_line() + pn.labs(title='ep_len = 100'))"
   ]
  },
  {
   "cell_type": "code",
   "execution_count": null,
   "metadata": {
    "jupyter": {
     "outputs_hidden": true
    }
   },
   "outputs": [],
   "source": [
    "display(pn.ggplot(sac_nonflat, pn.aes(x='Epoch', y=var, color='run')) + pn.geom_line() + pn.labs(title='nonflat reward'))\n",
    "display(pn.ggplot(sac_random_01_lr2_01, pn.aes(x='Epoch', y=var, color='run')) + pn.geom_line() + pn.labs(title='random 1%; Q lr = 0.01'))\n",
    "display(pn.ggplot(sac_zeros, pn.aes(x='Epoch', y=var, color='run')) + pn.geom_line() + pn.labs(title='zeros like'))\n",
    "display(pn.ggplot(sac_random_001, pn.aes(x='Epoch', y=var, color='run')) + pn.geom_line() + pn.labs(title='random 0.1%'))\n",
    "display(pn.ggplot(sac_random_01, pn.aes(x='Epoch', y=var, color='run')) + pn.geom_line() + pn.labs(title='random 1%'))\n",
    "display(pn.ggplot(sac_gamma_99, pn.aes(x='Epoch', y=var, color='run')) + pn.geom_line() + pn.labs(title='Standard'))\n",
    "display(pn.ggplot(sac_random_10, pn.aes(x='Epoch', y=var, color='run')) + pn.geom_line() + pn.labs(title='random 10%'))\n",
    "display(pn.ggplot(sac_permute, pn.aes(x='Epoch', y=var, color='run')) + pn.geom_line() + pn.labs(title='permute'))\n",
    "display(pn.ggplot(sac_gamma_99_done, pn.aes(x='Epoch', y=var, color='run')) + pn.geom_line() + pn.labs(title='done'))\n",
    "display(pn.ggplot(sac_gamma_99_done2, pn.aes(x='Epoch', y=var, color='run')) + pn.geom_line() + pn.labs(title='done 2'))"
   ]
  },
  {
   "cell_type": "code",
   "execution_count": null,
   "metadata": {
    "jupyter": {
     "outputs_hidden": true
    }
   },
   "outputs": [],
   "source": [
    "print('99 a 20')\n",
    "display(pn.ggplot(sac_gamma_99_a_20, pn.aes(x='Epoch', y='AverageTestEpRet', color='run')) + pn.geom_line() + pn.labs(title=''))\n",
    "print('99 a 20 t1')\n",
    "display(pn.ggplot(sac_gamma_99_a_20_t1, pn.aes(x='Epoch', y='AverageTestEpRet', color='run')) + pn.geom_line() + pn.labs(title=''))\n",
    "print('0')\n",
    "display(pn.ggplot(sac_gamma_0, pn.aes(x='Epoch', y='AverageTestEpRet', color='run')) + pn.geom_line() + pn.labs(title=''))\n",
    "print('50')\n",
    "display(pn.ggplot(sac_gamma_50, pn.aes(x='Epoch', y='AverageTestEpRet', color='run')) + pn.geom_line() + pn.labs(title=''))\n",
    "print('90')\n",
    "display(pn.ggplot(sac_gamma_90, pn.aes(x='Epoch', y='AverageTestEpRet', color='run')) + pn.geom_line() + pn.labs(title=''))"
   ]
  },
  {
   "cell_type": "code",
   "execution_count": null,
   "metadata": {
    "jupyter": {
     "outputs_hidden": true
    }
   },
   "outputs": [],
   "source": [
    "pn.ggplot(sac_auto_t4, pn.aes(x='Epoch', y='AverageTestEpRet', color='run')) + pn.geom_line()"
   ]
  },
  {
   "cell_type": "code",
   "execution_count": null,
   "metadata": {
    "jupyter": {
     "outputs_hidden": true
    }
   },
   "outputs": [],
   "source": [
    "pn.ggplot(sac_done_t4, pn.aes(x='Epoch', y='AverageTestEpRet', color='run')) + pn.geom_line()"
   ]
  },
  {
   "cell_type": "code",
   "execution_count": null,
   "metadata": {
    "jupyter": {
     "outputs_hidden": true
    }
   },
   "outputs": [],
   "source": [
    "pn.ggplot(sac_orig_auto_t4, pn.aes(x='Epoch', y='AverageTestEpRet', color='run')) + pn.geom_line()"
   ]
  },
  {
   "cell_type": "code",
   "execution_count": null,
   "metadata": {
    "jupyter": {
     "outputs_hidden": true
    }
   },
   "outputs": [],
   "source": [
    "pn.ggplot(sac_done_auto_t4, pn.aes(x='Epoch', y='AverageTestEpRet', color='run')) + pn.geom_line()"
   ]
  },
  {
   "cell_type": "code",
   "execution_count": null,
   "metadata": {
    "jupyter": {
     "outputs_hidden": true
    }
   },
   "outputs": [],
   "source": [
    "pn.ggplot(sac_orig_auto_t4, pn.aes(x='Epoch', y='AverageTestEpRet', color='run')) + pn.geom_line()"
   ]
  },
  {
   "cell_type": "code",
   "execution_count": null,
   "metadata": {
    "jupyter": {
     "outputs_hidden": true
    }
   },
   "outputs": [],
   "source": [
    "pn.ggplot(sac_auto_t4, pn.aes(x='Epoch', y='StdEpRet', color='run')) + pn.geom_line()"
   ]
  },
  {
   "cell_type": "code",
   "execution_count": null,
   "metadata": {
    "jupyter": {
     "outputs_hidden": true
    }
   },
   "outputs": [],
   "source": [
    "pn.ggplot(sac_orig_auto_t4, pn.aes(x='Epoch', y='StdEpRet', color='run')) + pn.geom_line()"
   ]
  },
  {
   "cell_type": "code",
   "execution_count": null,
   "metadata": {
    "jupyter": {
     "outputs_hidden": true
    }
   },
   "outputs": [],
   "source": [
    "pn.ggplot(sac_orig_auto_t8, pn.aes(x='Epoch', y='AverageTestEpRet', color='run')) + pn.geom_line()"
   ]
  },
  {
   "cell_type": "code",
   "execution_count": null,
   "metadata": {
    "jupyter": {
     "outputs_hidden": true
    }
   },
   "outputs": [],
   "source": [
    "pn.ggplot(td3_nonflat, pn.aes(x='Epoch', y='AverageTestEpRet', color='run')) + pn.geom_line()"
   ]
  },
  {
   "cell_type": "code",
   "execution_count": null,
   "metadata": {
    "jupyter": {
     "outputs_hidden": true
    }
   },
   "outputs": [],
   "source": [
    "pn.ggplot(sac, pn.aes(x='Epoch', y='AverageTestEpRet', color='run')) + pn.geom_line()"
   ]
  },
  {
   "cell_type": "code",
   "execution_count": null,
   "metadata": {
    "jupyter": {
     "outputs_hidden": true
    }
   },
   "outputs": [],
   "source": [
    "pn.ggplot(sac_auto, pn.aes(x='Epoch', y='AverageTestEpRet', color='run')) + pn.geom_line()"
   ]
  },
  {
   "cell_type": "code",
   "execution_count": null,
   "metadata": {
    "jupyter": {
     "outputs_hidden": true
    }
   },
   "outputs": [],
   "source": [
    "pn.ggplot(sac_auto_t4, pn.aes(x='Epoch', y='AverageTestEpRet', color='run')) + pn.geom_line()"
   ]
  },
  {
   "cell_type": "code",
   "execution_count": null,
   "metadata": {
    "jupyter": {
     "outputs_hidden": true
    }
   },
   "outputs": [],
   "source": [
    "pn.ggplot(sac_auto_t8, pn.aes(x='Epoch', y='AverageTestEpRet', color='run')) + pn.geom_line()"
   ]
  },
  {
   "cell_type": "code",
   "execution_count": null,
   "metadata": {
    "jupyter": {
     "outputs_hidden": true
    }
   },
   "outputs": [],
   "source": [
    "pn.ggplot(sac_decr_98, pn.aes(x='Epoch', y='AverageTestEpRet', color='run')) + pn.geom_line()"
   ]
  },
  {
   "cell_type": "code",
   "execution_count": null,
   "metadata": {
    "jupyter": {
     "outputs_hidden": true
    }
   },
   "outputs": [],
   "source": [
    "pn.ggplot(sac_decr_94, pn.aes(x='Epoch', y='AverageTestEpRet', color='run')) + pn.geom_line()"
   ]
  },
  {
   "cell_type": "code",
   "execution_count": null,
   "metadata": {
    "jupyter": {
     "outputs_hidden": true
    }
   },
   "outputs": [],
   "source": [
    "pn.ggplot(sac_decr_90, pn.aes(x='Epoch', y='AverageTestEpRet', color='run')) + pn.geom_line()"
   ]
  },
  {
   "cell_type": "code",
   "execution_count": null,
   "metadata": {
    "jupyter": {
     "outputs_hidden": true
    }
   },
   "outputs": [],
   "source": [
    "pn.ggplot(sac_decr_50, pn.aes(x='Epoch', y='AverageTestEpRet', color='run')) + pn.geom_line()"
   ]
  },
  {
   "cell_type": "code",
   "execution_count": null,
   "metadata": {
    "jupyter": {
     "outputs_hidden": true
    }
   },
   "outputs": [],
   "source": [
    "display(sac[sac[\"Epoch\"]==200])\n",
    "display(sac_auto_t4[sac_auto_t4[\"Epoch\"]==200])\n",
    "display(sac_auto_t8[sac_auto_t8[\"Epoch\"]==200])\n",
    "\n",
    "display(sac_decr_98[sac_decr_98[\"Epoch\"]==200])\n",
    "display(sac_decr_94[sac_decr_94[\"Epoch\"]==200])\n",
    "display(sac_decr_90[sac_decr_90[\"Epoch\"]==200])\n",
    "display(sac_decr_50[sac_decr_50[\"Epoch\"]==200])"
   ]
  },
  {
   "cell_type": "code",
   "execution_count": null,
   "metadata": {
    "jupyter": {
     "outputs_hidden": true
    }
   },
   "outputs": [],
   "source": [
    "pn.ggplot(td3_orig, pn.aes(x='Epoch', y='AverageTestEpRet', color='run')) + pn.geom_line()"
   ]
  },
  {
   "cell_type": "code",
   "execution_count": null,
   "metadata": {
    "jupyter": {
     "outputs_hidden": true
    }
   },
   "outputs": [],
   "source": [
    "pn.ggplot(td3_gamma, pn.aes(x='Epoch', y='AverageTestEpRet', color='run')) + pn.geom_line()"
   ]
  },
  {
   "cell_type": "code",
   "execution_count": null,
   "metadata": {
    "jupyter": {
     "outputs_hidden": true
    }
   },
   "outputs": [],
   "source": [
    "pn.ggplot(ddpg_orig, pn.aes(x='Epoch', y='AverageTestEpRet', color='run')) + pn.geom_line()"
   ]
  },
  {
   "cell_type": "code",
   "execution_count": null,
   "metadata": {
    "jupyter": {
     "outputs_hidden": true
    }
   },
   "outputs": [],
   "source": [
    "pn.ggplot(ddpg_polya, pn.aes(x='Epoch', y='AverageTestEpRet', color='run')) + pn.geom_line()"
   ]
  },
  {
   "cell_type": "code",
   "execution_count": null,
   "metadata": {
    "jupyter": {
     "outputs_hidden": true
    }
   },
   "outputs": [],
   "source": [
    "pn.ggplot(ddpg_gamma, pn.aes(x='Epoch', y='AverageTestEpRet', color='run')) + pn.geom_line()"
   ]
  },
  {
   "cell_type": "code",
   "execution_count": null,
   "metadata": {
    "jupyter": {
     "outputs_hidden": true
    }
   },
   "outputs": [],
   "source": [
    "pn.ggplot(ddpg_gamma, pn.aes(x='Epoch', y='LossQ', color='run')) + pn.geom_line()"
   ]
  },
  {
   "cell_type": "code",
   "execution_count": null,
   "metadata": {
    "jupyter": {
     "outputs_hidden": true
    }
   },
   "outputs": [],
   "source": [
    "pn.ggplot(ddpg_gamma, pn.aes(x='Epoch', y='LossPi', color='run')) + pn.geom_line()"
   ]
  },
  {
   "cell_type": "code",
   "execution_count": null,
   "metadata": {
    "jupyter": {
     "outputs_hidden": true
    }
   },
   "outputs": [],
   "source": [
    "pn.ggplot(ddpg_gamma, pn.aes(x='Epoch', y='AverageQVals', color='run')) + pn.geom_line()"
   ]
  },
  {
   "cell_type": "code",
   "execution_count": null,
   "metadata": {
    "jupyter": {
     "outputs_hidden": true
    }
   },
   "outputs": [],
   "source": [
    "pn.ggplot(ddpg, pn.aes(x='Epoch', y='AverageTestEpRet', color='run')) + pn.geom_line()"
   ]
  },
  {
   "cell_type": "code",
   "execution_count": null,
   "metadata": {
    "jupyter": {
     "outputs_hidden": true
    }
   },
   "outputs": [],
   "source": [
    "pn.ggplot(ddpg_noise_5, pn.aes(x='Epoch', y='AverageTestEpRet', color='run')) + pn.geom_line()"
   ]
  },
  {
   "cell_type": "code",
   "execution_count": null,
   "metadata": {
    "jupyter": {
     "outputs_hidden": true
    }
   },
   "outputs": [],
   "source": [
    "pn.ggplot(ddpg_noise_02, pn.aes(x='Epoch', y='AverageTestEpRet', color='run')) + pn.geom_line()"
   ]
  },
  {
   "cell_type": "code",
   "execution_count": null,
   "metadata": {
    "jupyter": {
     "outputs_hidden": true
    }
   },
   "outputs": [],
   "source": [
    "pn.ggplot(ddpg, pn.aes(x='Epoch', y='LossQ', color='run')) + pn.geom_line()"
   ]
  },
  {
   "cell_type": "code",
   "execution_count": null,
   "metadata": {
    "jupyter": {
     "outputs_hidden": true
    }
   },
   "outputs": [],
   "source": [
    "pn.ggplot(ddpg, pn.aes(x='Epoch', y='LossPi', color='run')) + pn.geom_line()"
   ]
  },
  {
   "cell_type": "code",
   "execution_count": null,
   "metadata": {
    "jupyter": {
     "outputs_hidden": true
    }
   },
   "outputs": [],
   "source": [
    "pn.ggplot(ddpg, pn.aes(x='Epoch', y='AverageQVals', color='run')) + pn.geom_line()"
   ]
  },
  {
   "cell_type": "code",
   "execution_count": null,
   "metadata": {
    "jupyter": {
     "outputs_hidden": true
    }
   },
   "outputs": [],
   "source": [
    "pn.ggplot(ddpg, pn.aes(x='Epoch', y='StdQVals', color='run')) + pn.geom_line()"
   ]
  },
  {
   "cell_type": "code",
   "execution_count": null,
   "metadata": {
    "jupyter": {
     "outputs_hidden": true
    }
   },
   "outputs": [],
   "source": [
    "pn.ggplot(rdpg, pn.aes(x='Epoch', y='AverageTestEpRet', color='run')) + pn.geom_line()"
   ]
  },
  {
   "cell_type": "code",
   "execution_count": null,
   "metadata": {
    "jupyter": {
     "outputs_hidden": true
    }
   },
   "outputs": [],
   "source": [
    "pn.ggplot(rdpg, pn.aes(x='Epoch', y='AverageQVals', color='run')) + pn.geom_line()"
   ]
  },
  {
   "cell_type": "code",
   "execution_count": null,
   "metadata": {},
   "outputs": [],
   "source": [
    "sac, nfr = get_runs('sac', exp_name = 'alpha_8')\n",
    "sac_new, nfr_new = get_runs('sac', exp_name = 'alpha_8_new_buf')\n",
    "rsac, nfrsac = get_runs('rsac', exp_name = 'standard')\n",
    "rsac_sac, _ = get_runs('rsac', exp_name = 'standard_sac_agent')\n",
    "rsac_q_sac, _ = get_runs('rsac', exp_name = 'rsac_w_sac_q')"
   ]
  },
  {
   "cell_type": "code",
   "execution_count": null,
   "metadata": {},
   "outputs": [],
   "source": [
    "nonfixed, _ = get_runs('rsac', exp_name = 'nonfixed')\n",
    "distrib, _ = get_runs('rsac', exp_name = 'distrib_2')\n",
    "rsac_1, _ = get_runs('rsac', exp_name = 'rsac_1')"
   ]
  },
  {
   "cell_type": "code",
   "execution_count": null,
   "metadata": {},
   "outputs": [],
   "source": [
    "def test_plots(df):\n",
    "    display(pn.ggplot(df, pn.aes(x='Epoch', y='AverageTestEpRet', color='run')) + pn.geom_line())\n",
    "    display(pn.ggplot(df, pn.aes(x='Epoch', y='StdTestEpRet', color='run')) + pn.geom_line())\n",
    "    display(pn.ggplot(df, pn.aes(x='Epoch', y='AverageTestActOffer', color='run')) + pn.geom_line())\n",
    "    display(pn.ggplot(df, pn.aes(x='Epoch', y='StdTestActOffer', color='run')) + pn.geom_line())\n",
    "    display(pn.ggplot(df, pn.aes(x='Epoch', y='AverageTestActDemand', color='run')) + pn.geom_line())\n",
    "    display(pn.ggplot(df, pn.aes(x='Epoch', y='StdTestActDemand', color='run')) + pn.geom_line())"
   ]
  },
  {
   "cell_type": "code",
   "execution_count": null,
   "metadata": {},
   "outputs": [],
   "source": [
    "test_plots(distrib)"
   ]
  },
  {
   "cell_type": "code",
   "execution_count": null,
   "metadata": {},
   "outputs": [],
   "source": [
    "test_plots(nonfixed)"
   ]
  },
  {
   "cell_type": "code",
   "execution_count": null,
   "metadata": {},
   "outputs": [],
   "source": [
    "q1_map = pd.read_csv(\"/Users/kurtsmith/research/multiagent-rl/data/q_maps/nonfixed_1_map.csv\")\n",
    "q2_map = pd.read_csv(\"/Users/kurtsmith/research/multiagent-rl/data/q_maps/nonfixed_2_map.csv\")\n",
    "\n",
    "# q1_map = q1_map.iloc[(101*101*32):]\n",
    "# q2_map = q2_map.iloc[(101*101*32):]\n",
    "q1_map.shape\n",
    "step_vals = q1_map['step'].unique()\n",
    "print(step_vals)"
   ]
  },
  {
   "cell_type": "code",
   "execution_count": null,
   "metadata": {},
   "outputs": [],
   "source": [
    "cols = ['a_0', 'a_1', 'q', 'step']\n",
    "merge_cols = ['a_0', 'a_1', 'step']\n",
    "q_comb = pd.merge(q1_map[cols], q2_map[cols], on =merge_cols)\n",
    "q_comb['q'] = q_comb[['q_x', 'q_y']].min(axis=1)\n",
    "q_map = q_comb"
   ]
  },
  {
   "cell_type": "code",
   "execution_count": null,
   "metadata": {},
   "outputs": [],
   "source": [
    "step = step_vals[-1]\n",
    "display(pn.ggplot(q1_map[q1_map['step']==step], pn.aes('a_0', 'a_1', fill='q')) + pn.geom_tile())\n",
    "display(pn.ggplot(q2_map[q2_map['step']==step], pn.aes('a_0', 'a_1', fill='q')) + pn.geom_tile())\n",
    "display(pn.ggplot(q_comb[q_comb['step']==step], pn.aes('a_0', 'a_1', fill='q')) + pn.geom_tile())"
   ]
  },
  {
   "cell_type": "code",
   "execution_count": null,
   "metadata": {},
   "outputs": [],
   "source": [
    "for a_1_cut in [0.0, 0.1, 0.2, 0.3]:\n",
    "    print(a_1_cut)\n",
    "    q_slice = q_map[(q_map.a_1==a_1_cut) & (q_map['step']==step)]\n",
    "    display(pn.ggplot(q_slice, pn.aes('a_0', 'q')) + pn.geom_point()  + pn.geom_line())\n",
    "    print(q_slice.tail(12))"
   ]
  },
  {
   "cell_type": "code",
   "execution_count": null,
   "metadata": {},
   "outputs": [],
   "source": [
    "q_map = q_comb\n",
    "for a_0_cut in [0.79, 0.8, 0.81]:\n",
    "    print(a_0_cut)\n",
    "    q_slice = q_map[(q_map.a_0==a_0_cut) & (q_map['step']==step)]\n",
    "    display(pn.ggplot(q_slice, pn.aes('a_1', 'q')) + pn.geom_point()  + pn.geom_line())"
   ]
  }
 ],
 "metadata": {
  "kernelspec": {
   "display_name": "Python 3",
   "language": "python",
   "name": "python3"
  },
  "language_info": {
   "codemirror_mode": {
    "name": "ipython",
    "version": 3
   },
   "file_extension": ".py",
   "mimetype": "text/x-python",
   "name": "python",
   "nbconvert_exporter": "python",
   "pygments_lexer": "ipython3",
   "version": "3.7.7"
  }
 },
 "nbformat": 4,
 "nbformat_minor": 4
}
