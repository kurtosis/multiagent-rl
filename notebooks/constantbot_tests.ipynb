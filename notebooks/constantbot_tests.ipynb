{
 "cells": [
  {
   "cell_type": "code",
   "execution_count": null,
   "metadata": {},
   "outputs": [],
   "source": [
    "import numpy as np\n",
    "import os\n",
    "import pandas as pd\n",
    "import plotnine as pn"
   ]
  },
  {
   "cell_type": "code",
   "execution_count": null,
   "metadata": {},
   "outputs": [],
   "source": [
    "pd.set_option('display.max_rows', None)"
   ]
  },
  {
   "cell_type": "code",
   "execution_count": null,
   "metadata": {},
   "outputs": [],
   "source": [
    "main_path = '/Users/kurtsmith/research/multiagent-rl/data/testing/constantbot/'\n",
    "ddpg_path = main_path + 'ddpg/'\n",
    "rdpg_path = main_path + 'rdpg/'\n",
    "ddpg_runs = os.listdir(ddpg_path)\n",
    "rdpg_runs = os.listdir(rdpg_path)\n",
    "ddpg_runs = [f'{ddpg_path}{run}/' for run in ddpg_runs]\n",
    "rdpg_runs = [f'{rdpg_path}{run}/' for run in rdpg_runs]"
   ]
  },
  {
   "cell_type": "code",
   "execution_count": null,
   "metadata": {},
   "outputs": [],
   "source": [
    "def get_runs(subdir, main_path=main_path, exp_name=None):\n",
    "    path = main_path + subdir + '/'\n",
    "    runs = os.listdir(path)\n",
    "    runs = [f'{path}{run}/' for run in runs]\n",
    "    if exp_name:\n",
    "        exp_runs = []\n",
    "        for r in runs:\n",
    "            in_exp = False\n",
    "            c = open(f'{r}config.json', \"r\")\n",
    "            for line in c:\n",
    "                if re.search(f'\"{exp_name}\",', line):\n",
    "                    in_exp = True\n",
    "            if in_exp: \n",
    "                exp_runs.append(r)\n",
    "            runs = exp_runs\n",
    "    prog = {x: pd.read_table(f'{x}progress.txt') for x in runs}\n",
    "    for i, r in enumerate(prog):\n",
    "        prog[r]['run'] = f'run_{i}'\n",
    "    prog = pd.concat(prog.values())\n",
    "    return prog, runs"
   ]
  },
  {
   "cell_type": "code",
   "execution_count": null,
   "metadata": {},
   "outputs": [],
   "source": [
    "import re\n",
    "\n",
    "exp_name = \"polya_0_900\"\n",
    "conf = \"/Users/kurtsmith/research/multiagent-rl/data/testing/constantbot/ddpg_orig/1610835051/config.json\"\n",
    "conf = open(conf, \"r\")\n",
    "for line in conf:\n",
    "    if re.search(f'\"{exp_name}\",', line):\n",
    "        print(line)"
   ]
  },
  {
   "cell_type": "code",
   "execution_count": null,
   "metadata": {},
   "outputs": [],
   "source": [
    "ddpg, ddpg_runs = get_runs('ddpg', exp_name = 'q_32x4')\n",
    "ddpg_noise_5, _ = get_runs('ddpg', exp_name = 'q_32x4_noise_0_5')\n",
    "ddpg_noise_02, _ = get_runs('ddpg', exp_name = 'q_32x4_noise_0_02')"
   ]
  },
  {
   "cell_type": "code",
   "execution_count": null,
   "metadata": {},
   "outputs": [],
   "source": [
    "ddpg_orig, ddpg_orig_runs = get_runs('ddpg_orig', exp_name = 'q_32x4')\n",
    "rdpg, rdpg_runs = get_runs('rdpg')\n",
    "ddpg_polya, _ = get_runs('ddpg_orig', exp_name = 'polya_0_900')\n",
    "ddpg_gamma, _ = get_runs('ddpg_orig', exp_name = 'gamma_0_00')\n",
    "td3_orig, _ = get_runs('td3_orig', exp_name = 'q_32x4')\n",
    "td3_gamma, _ = get_runs('td3_orig', exp_name = 'gamma_0_00')"
   ]
  },
  {
   "cell_type": "code",
   "execution_count": null,
   "metadata": {},
   "outputs": [],
   "source": [
    "td3_nonflat, _ = get_runs('td3', exp_name = 'nonflat_reward')"
   ]
  },
  {
   "cell_type": "code",
   "execution_count": null,
   "metadata": {},
   "outputs": [],
   "source": [
    "sac, _ = get_runs('sac_orig', exp_name = 'q_32x2')"
   ]
  },
  {
   "cell_type": "code",
   "execution_count": null,
   "metadata": {},
   "outputs": [],
   "source": [
    "sac_decr_98, _ = get_runs('sac_orig', exp_name = 'decreasing_alpha_98')\n",
    "sac_decr_94, _ = get_runs('sac_orig', exp_name = 'decreasing_alpha_94')\n",
    "sac_decr_90, _ = get_runs('sac_orig', exp_name = 'decreasing_alpha_90')\n",
    "sac_decr_50, _ = get_runs('sac_orig', exp_name = 'decreasing_alpha_50')\n",
    "sac_auto, _ = get_runs('sac_orig', exp_name = 'auto_alpha')\n",
    "sac_auto_t4, _ = get_runs('sac_orig', exp_name = 'auto_alpha_targ_4')\n",
    "sac_auto_t8, _ = get_runs('sac_orig', exp_name = 'auto_alpha_targ_8')"
   ]
  },
  {
   "cell_type": "code",
   "execution_count": null,
   "metadata": {},
   "outputs": [],
   "source": [
    "pn.ggplot(td3_nonflat, pn.aes(x='Epoch', y='AverageTestEpRet', color='run')) + pn.geom_line()"
   ]
  },
  {
   "cell_type": "code",
   "execution_count": null,
   "metadata": {},
   "outputs": [],
   "source": [
    "pn.ggplot(sac, pn.aes(x='Epoch', y='AverageTestEpRet', color='run')) + pn.geom_line()"
   ]
  },
  {
   "cell_type": "code",
   "execution_count": null,
   "metadata": {},
   "outputs": [],
   "source": [
    "pn.ggplot(sac_auto, pn.aes(x='Epoch', y='AverageTestEpRet', color='run')) + pn.geom_line()"
   ]
  },
  {
   "cell_type": "code",
   "execution_count": null,
   "metadata": {},
   "outputs": [],
   "source": [
    "pn.ggplot(sac_auto_t4, pn.aes(x='Epoch', y='AverageTestEpRet', color='run')) + pn.geom_line()"
   ]
  },
  {
   "cell_type": "code",
   "execution_count": null,
   "metadata": {},
   "outputs": [],
   "source": [
    "pn.ggplot(sac_auto_t8, pn.aes(x='Epoch', y='AverageTestEpRet', color='run')) + pn.geom_line()"
   ]
  },
  {
   "cell_type": "code",
   "execution_count": null,
   "metadata": {},
   "outputs": [],
   "source": [
    "pn.ggplot(sac_decr_98, pn.aes(x='Epoch', y='AverageTestEpRet', color='run')) + pn.geom_line()"
   ]
  },
  {
   "cell_type": "code",
   "execution_count": null,
   "metadata": {},
   "outputs": [],
   "source": [
    "pn.ggplot(sac_decr_94, pn.aes(x='Epoch', y='AverageTestEpRet', color='run')) + pn.geom_line()"
   ]
  },
  {
   "cell_type": "code",
   "execution_count": null,
   "metadata": {},
   "outputs": [],
   "source": [
    "pn.ggplot(sac_decr_90, pn.aes(x='Epoch', y='AverageTestEpRet', color='run')) + pn.geom_line()"
   ]
  },
  {
   "cell_type": "code",
   "execution_count": null,
   "metadata": {},
   "outputs": [],
   "source": [
    "pn.ggplot(sac_decr_50, pn.aes(x='Epoch', y='AverageTestEpRet', color='run')) + pn.geom_line()"
   ]
  },
  {
   "cell_type": "code",
   "execution_count": null,
   "metadata": {},
   "outputs": [],
   "source": [
    "display(sac[sac[\"Epoch\"]==200])\n",
    "display(sac_auto_t4[sac_auto_t4[\"Epoch\"]==200])\n",
    "display(sac_auto_t8[sac_auto_t8[\"Epoch\"]==200])\n",
    "\n",
    "display(sac_decr_98[sac_decr_98[\"Epoch\"]==200])\n",
    "display(sac_decr_94[sac_decr_94[\"Epoch\"]==200])\n",
    "display(sac_decr_90[sac_decr_90[\"Epoch\"]==200])\n",
    "display(sac_decr_50[sac_decr_50[\"Epoch\"]==200])"
   ]
  },
  {
   "cell_type": "code",
   "execution_count": null,
   "metadata": {},
   "outputs": [],
   "source": [
    "pn.ggplot(td3_orig, pn.aes(x='Epoch', y='AverageTestEpRet', color='run')) + pn.geom_line()"
   ]
  },
  {
   "cell_type": "code",
   "execution_count": null,
   "metadata": {},
   "outputs": [],
   "source": [
    "pn.ggplot(td3_gamma, pn.aes(x='Epoch', y='AverageTestEpRet', color='run')) + pn.geom_line()"
   ]
  },
  {
   "cell_type": "code",
   "execution_count": null,
   "metadata": {},
   "outputs": [],
   "source": [
    "pn.ggplot(ddpg_orig, pn.aes(x='Epoch', y='AverageTestEpRet', color='run')) + pn.geom_line()"
   ]
  },
  {
   "cell_type": "code",
   "execution_count": null,
   "metadata": {},
   "outputs": [],
   "source": [
    "pn.ggplot(ddpg_polya, pn.aes(x='Epoch', y='AverageTestEpRet', color='run')) + pn.geom_line()"
   ]
  },
  {
   "cell_type": "code",
   "execution_count": null,
   "metadata": {},
   "outputs": [],
   "source": [
    "pn.ggplot(ddpg_gamma, pn.aes(x='Epoch', y='AverageTestEpRet', color='run')) + pn.geom_line()"
   ]
  },
  {
   "cell_type": "code",
   "execution_count": null,
   "metadata": {},
   "outputs": [],
   "source": [
    "pn.ggplot(ddpg_gamma, pn.aes(x='Epoch', y='LossQ', color='run')) + pn.geom_line()"
   ]
  },
  {
   "cell_type": "code",
   "execution_count": null,
   "metadata": {},
   "outputs": [],
   "source": [
    "pn.ggplot(ddpg_gamma, pn.aes(x='Epoch', y='LossPi', color='run')) + pn.geom_line()"
   ]
  },
  {
   "cell_type": "code",
   "execution_count": null,
   "metadata": {},
   "outputs": [],
   "source": [
    "pn.ggplot(ddpg_gamma, pn.aes(x='Epoch', y='AverageQVals', color='run')) + pn.geom_line()"
   ]
  },
  {
   "cell_type": "code",
   "execution_count": null,
   "metadata": {},
   "outputs": [],
   "source": [
    "pn.ggplot(ddpg, pn.aes(x='Epoch', y='AverageTestEpRet', color='run')) + pn.geom_line()"
   ]
  },
  {
   "cell_type": "code",
   "execution_count": null,
   "metadata": {},
   "outputs": [],
   "source": [
    "pn.ggplot(ddpg_noise_5, pn.aes(x='Epoch', y='AverageTestEpRet', color='run')) + pn.geom_line()"
   ]
  },
  {
   "cell_type": "code",
   "execution_count": null,
   "metadata": {},
   "outputs": [],
   "source": [
    "pn.ggplot(ddpg_noise_02, pn.aes(x='Epoch', y='AverageTestEpRet', color='run')) + pn.geom_line()"
   ]
  },
  {
   "cell_type": "code",
   "execution_count": null,
   "metadata": {},
   "outputs": [],
   "source": [
    "pn.ggplot(ddpg, pn.aes(x='Epoch', y='LossQ', color='run')) + pn.geom_line()"
   ]
  },
  {
   "cell_type": "code",
   "execution_count": null,
   "metadata": {},
   "outputs": [],
   "source": [
    "pn.ggplot(ddpg, pn.aes(x='Epoch', y='LossPi', color='run')) + pn.geom_line()"
   ]
  },
  {
   "cell_type": "code",
   "execution_count": null,
   "metadata": {},
   "outputs": [],
   "source": [
    "pn.ggplot(ddpg, pn.aes(x='Epoch', y='AverageQVals', color='run')) + pn.geom_line()"
   ]
  },
  {
   "cell_type": "code",
   "execution_count": null,
   "metadata": {},
   "outputs": [],
   "source": [
    "pn.ggplot(ddpg, pn.aes(x='Epoch', y='StdQVals', color='run')) + pn.geom_line()"
   ]
  },
  {
   "cell_type": "code",
   "execution_count": null,
   "metadata": {},
   "outputs": [],
   "source": [
    "pn.ggplot(rdpg, pn.aes(x='Epoch', y='AverageTestEpRet', color='run')) + pn.geom_line()"
   ]
  },
  {
   "cell_type": "code",
   "execution_count": null,
   "metadata": {},
   "outputs": [],
   "source": [
    "pn.ggplot(rdpg, pn.aes(x='Epoch', y='AverageQVals', color='run')) + pn.geom_line()"
   ]
  },
  {
   "cell_type": "code",
   "execution_count": null,
   "metadata": {},
   "outputs": [],
   "source": [
    "# q_map = pd.read_csv(\"/Users/kurtsmith/q_maps_32x4.csv\")\n",
    "# q_map = pd.read_csv(\"/Users/kurtsmith/q_map_ddpg.csv\")\n",
    "q_map = pd.read_csv(\"/Users/kurtsmith/q_map_ddpg_noise_5.csv\")\n"
   ]
  },
  {
   "cell_type": "code",
   "execution_count": null,
   "metadata": {},
   "outputs": [],
   "source": [
    "q_map.shape"
   ]
  },
  {
   "cell_type": "code",
   "execution_count": null,
   "metadata": {},
   "outputs": [],
   "source": [
    "step_vals = q_map['step'].unique()\n",
    "print(step_vals)"
   ]
  },
  {
   "cell_type": "code",
   "execution_count": null,
   "metadata": {},
   "outputs": [],
   "source": [
    "step = step_vals[-1]\n",
    "display(pn.ggplot(q_map[q_map['step']==step], pn.aes('a_0', 'a_1', fill='q')) + pn.geom_tile())"
   ]
  },
  {
   "cell_type": "code",
   "execution_count": null,
   "metadata": {},
   "outputs": [],
   "source": [
    "for a_1_cut in [0.48, 0.49, 0.5]:\n",
    "    print(a_1_cut)\n",
    "    q_slice = q_map[(q_map.a_1==a_1_cut) & (q_map['step']==step)]\n",
    "    display(pn.ggplot(q_slice, pn.aes('a_0', 'q')) + pn.geom_point()  + pn.geom_line())\n",
    "    print(q_slice.tail(12))"
   ]
  },
  {
   "cell_type": "code",
   "execution_count": null,
   "metadata": {},
   "outputs": [],
   "source": [
    "for a_0_cut in [0.79, 0.8, 0.81]:\n",
    "    print(a_0_cut)\n",
    "    q_slice = q_map[(q_map.a_0==a_0_cut) & (q_map['step']==step)]\n",
    "    display(pn.ggplot(q_slice, pn.aes('a_1', 'q')) + pn.geom_point()  + pn.geom_line())"
   ]
  }
 ],
 "metadata": {
  "kernelspec": {
   "display_name": "Python 3",
   "language": "python",
   "name": "python3"
  },
  "language_info": {
   "codemirror_mode": {
    "name": "ipython",
    "version": 3
   },
   "file_extension": ".py",
   "mimetype": "text/x-python",
   "name": "python",
   "nbconvert_exporter": "python",
   "pygments_lexer": "ipython3",
   "version": "3.6.10"
  }
 },
 "nbformat": 4,
 "nbformat_minor": 4
}
